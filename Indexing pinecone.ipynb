{
 "cells": [
  {
   "cell_type": "code",
   "execution_count": 18,
   "id": "initial_id",
   "metadata": {
    "collapsed": true,
    "ExecuteTime": {
     "end_time": "2024-04-26T18:51:50.549376200Z",
     "start_time": "2024-04-26T18:51:50.498726500Z"
    }
   },
   "outputs": [
    {
     "name": "stdout",
     "output_type": "stream",
     "text": [
      "['Sam Altman\\n9 min listen\\n0:00\\n9:20\\nArticle\\nTalk\\nRead\\nEdit\\nView history\\nTools From Wikipedia, the free encyclopedia Sam Altman Sam Altman CropEdit James Tamim.jpg Altman in 2019 BornApril 22, 1985 (age 38) Chicago, Illinois, U.S. EducationStanford University (dropped out) OccupationEntrepreneur Known forLoopt, Y Combinator, OpenAI TitleCEO of OpenAI LP WebsiteOfficial website Edit this at Wikidata Samuel Harris Altman (/ˈɔːltmən/ AWLT-mən; born 1985) is an American entrepreneur, investor, and programmer. He was the co-founder of Loopt and is the current CEO of OpenAI.  He was the president of Y Combinator and was briefly the CEO of Reddit.\\nEarly life and education Altman was born into a Jewish family, and grew up in St. Louis, Missouri. His mother is a dermatologist. He received his first computer at the age of eight.  He attended John Burroughs School. In 2005, after one year at Stanford University studying computer science, he dropped out without earning a bachelors degree. \\nCareer Loopt In 2005, at the age of 19, Altman co-founded Loopt, a location-based social networking mobile application. As CEO, Altman raised more than $30 million in venture capital for the company; however Loopt failed to gain traction with enough users. In 2012, it was acquired by the Green Dot Corporation for $43.4 million. \\nY Combinator Altman became a partner at Y Combinator in 2011, initially working there on a part-time basis.  In February 2014, Altman was named president of Y Combinator by its co-founder, Paul Graham.  In a 2014 blog post, Altman said that the total valuation of Y Combinator companies had surpassed $65 billion, including Airbnb, Dropbox, Zenefits, and Stripe.  In September 2016, Altman announced his expanded role as president of YC Group, which included Y Combinator and other units. \\nAltman said that he hoped to expand Y Combinator to fund 1,000 new companies per year. He also tried to expand the types of companies funded by YC, especially \"hard technology\" companies. \\nIn October 2015, Altman announced YC Continuity, a $700 million equity fund investing in YC companies as they matured.  A week earlier, Altman had introduced Y Combinator Research, a non-profit research lab, and donated $10 million to fund it.  YC Research has thus far announced research on basic income, the future of computing, education, and building new cities. \\nIn March 2019, YC announced Altman\\'s transition from president of the company to a less hands-on role Chairman of the Board, in order for him to focus on OpenAI.  This decision came shortly after YC announced it would be moving its headquarters to San Francisco.  As of early 2020, he is no longer affiliated with YC.\\nOpenAI By 2020, Sam Altman had left Y Combinator to focus full-time on OpenAI as CEO.  OpenAI was initially funded by Altman, Greg Brockman, Elon Musk, Jessica Livingston, Peter Thiel, Microsoft, Amazon Web Services, Infosys, and YC Research. When OpenAI launched in 2015, it had raised $1 billion. \\nReddit Altman was the CEO of Reddit for eight days in 2014 after CEO Yishan Wong resigned.  He announced the return of Steve Huffman as CEO on July 10, 2015. \\nWorldcoin Altman co-founded Tools For Humanity in 2019, a company building a global iris-based biometric system using cryptocurrency, called Worldcoin. Worldcoin\\'s aim is to provide a reliable way to authenticate humans online, to counter bots and fake virtual identities facilitated by artificial intelligence. Using a distribution mechanism for its cryptocurrency similar to UBI, Worldcoin attempts to incentivize users to join its network by getting their iris scanned using Worldcoin\\'s orb-shaped iris scanner. \\nIn April 2022, a report from MIT Technology Review highlighted Worldcoin\\'s controversial practices in low-income countries, citing that Worldcoin takes advantage of impoverished people to grow its network.\\nIn May 2023, TechCrunch reported that hackers had been able to steal login credentials of several of Worldcoin\\'s iris-scanning operator devices. \\nAngel investing Altman invests in technology startups and nuclear energy companies. Some of his portfolio companies include Airbnb, Stripe, Reddit, Asana, Pinterest, Teespring, Shoptiques, Instacart, Optimizely, Verbling, Soylent, and Retro Biosciences.  He is also chairman of the board for Helion and Oklo, two nuclear energy companies. \\nPhilanthropy During the COVID-19 pandemic, Altman helped fund and create Project Covalence to help researchers rapidly launch clinical trials in partnership with TrialSpark, a clinical trial startup. \\nDuring the depositor run on Silicon Valley Bank in mid-March 2023, Altman provided capital to multiple startups. \\nPolitics Recode reported that Altman might run for Governor of California in the 2018 election, which he did not enter. In 2018, Altman announced \"The United Slate\", a political project to improve housing and healthcare policy. \\nIn 2019, Altman held a fundraiser at his house in San Francisco for 2020 Democratic presidential candidate Andrew Yang.  In May 2020, Altman donated $250,000 to American Bridge 21st Century, a super-PAC supporting Democratic presidential candidate Joe Biden. \\nPersonal life Altman has been a vegetarian since childhood.  He is gay and dated Loopt co-founder Nick Sivo for nine years; they broke up shortly after the company was acquired in 2012.  As of 2023, his partner is Oliver Mulherin, an Australian software engineer. Altman lives in San Francisco\\'s Russian Hill neighborhood and owns a weekend home in Napa, California. \\nAltman is a prepper, he said in 2016: \"I have guns, gold, potassium iodide, antibiotics, batteries, water, gas masks from the Israeli Defense Force, and a big patch of land in Big Sur I can fly to. \"\\nRecognition\\nNancy Pelosi presenting Sam Altman with the Ric Weiland Award in 2017. Altman was named one of the 100 most influential people in the world by Time magazine in 2023,  one of the \"Best Young Entrepreneurs in Technology\" by Businessweek in 2008, and the top investor under 30 by Forbes magazine in 2015. \\nIn 2017, Altman received an honorary Doctor of Engineering degree from the University of Waterloo for supporting companies from its Velocity entrepreneurship program.  Later that year, GLAAD recognized Altman with the Ric Weiland Award for promoting LGBTQ equality and acceptance in the tech sector. \\nAltman was invited to attend the Bilderberg conference in 2016, 2022 and 2023. ']\n"
     ]
    }
   ],
   "source": [
    "from langchain.document_loaders import DirectoryLoader\n",
    "import re\n",
    "import os\n",
    "import openai\n",
    "import pinecone\n",
    "\n",
    "openai.api_key = os.getenv(\"OPENAI_API_KEY\")\n",
    "pinecone.api_key= os.getenv(\"PINECONE_API_KEY\")\n",
    "\n",
    "# 定义文档存储的目录\n",
    "\n",
    "directory = r'C:\\Users\\zhuyu\\OneDrive\\桌面\\data'\n",
    "\n",
    "def load_docs(directory):\n",
    "    \"\"\"\n",
    "    加载指定目录中的所有文档。\n",
    "    使用DirectoryLoader从指定的目录加载文档，这些文档被预期为具有可读文本格式。\n",
    "    \n",
    "    参数:\n",
    "    directory (str): 包含文档的目录的路径。\n",
    "    \n",
    "    返回:\n",
    "    list: 包含加载的文档对象的列表。\n",
    "    \"\"\"\n",
    "    \n",
    "    loader = DirectoryLoader(directory)\n",
    "    documents = loader.load()\n",
    "    return documents\n",
    "\n",
    "documents = load_docs(directory)\n",
    "\n",
    "def clean_text(doc):\n",
    "    \"\"\"\n",
    "    清洗文档文本，去除不必要的字符和格式。\n",
    "    移除文档中的引用标记、多余的换行符和制表符，以便于后续处理。\n",
    "    \n",
    "    参数:\n",
    "    doc (Document): 需要清洗的文档对象，预期具有page_content属性包含文本。\n",
    "    \n",
    "    返回:\n",
    "    str: 清洗后的文本字符串。\n",
    "    \"\"\"\n",
    "        \n",
    "    # 从文档对象获取page_content属性\n",
    "    text = doc.page_content\n",
    "    text = re.sub(r'\\[.*?\\]', '', text)  # 删除所有括号内的引用标记\n",
    "    text = re.sub(r'\\n+', '\\n', text)  # 替换多个换行符为单个换行符\n",
    "    text = re.sub(r'\\n+', '\\n', text)  # 再次替换多个换行符为单个换行符\n",
    "    text = re.sub(r'[\\t\\[\\]]', '', text)  # 移除制表符和特定括号\n",
    "    return text\n",
    "\n",
    "# 加载并清洗目录下的所有文档\n",
    "documents = load_docs(directory)\n",
    "cleaned_documents = [clean_text(doc) for doc in documents]\n",
    "\n",
    "print(cleaned_documents)"
   ]
  },
  {
   "cell_type": "code",
   "outputs": [
    {
     "name": "stdout",
     "output_type": "stream",
     "text": [
      "12\n"
     ]
    }
   ],
   "source": [
    "def split_docs(texts, chunk_size=600, chunk_overlap=30):\n",
    "    \"\"\"\n",
    "    将长文本分割成指定大小的较小文本片段，允许片段之间有重叠。\n",
    "    \n",
    "    参数:\n",
    "    texts (list of str): 需要分割的文本列表。\n",
    "    chunk_size (int): 每个文本片段的字符数。\n",
    "    chunk_overlap (int): 相邻文本片段之间的重叠字符数。\n",
    "    \n",
    "    返回:\n",
    "    list of str: 分割后的文本片段列表。\n",
    "    \"\"\"\n",
    "    \n",
    "    split_docs = []\n",
    "    for text in texts:\n",
    "        start = 0\n",
    "        while start < len(text):\n",
    "            # 提取从start到start+chunk_size的文本片段\n",
    "            end = min(start + chunk_size, len(text))\n",
    "            split_docs.append(text[start:end])\n",
    "            # 更新起始点，移动窗口，考虑重叠部分\n",
    "            start += (chunk_size - chunk_overlap)  # 移动窗口，考虑重叠\n",
    "    return split_docs\n",
    "\n",
    "# 应用函数，将清洗后的文档分割成较小的片段\n",
    "docs = split_docs(cleaned_documents)\n",
    "print(len(docs))# 打印分割后的文档片段数量"
   ],
   "metadata": {
    "collapsed": false,
    "ExecuteTime": {
     "end_time": "2024-04-26T18:51:56.064776300Z",
     "start_time": "2024-04-26T18:51:56.059282300Z"
    }
   },
   "id": "b1cb1af755e8424d",
   "execution_count": 19
  },
  {
   "cell_type": "code",
   "outputs": [],
   "source": [
    "#requires for open ai embedding\n",
    "import tiktoken\n",
    "\n",
    "tiktoken.encoding_for_model('gpt-3.5-turbo')\n",
    "tokenizer = tiktoken.get_encoding('cl100k_base')\n",
    "# import openai\n",
    "# from langchain.embeddings.openai import OpenAIEmbeddings\n",
    "\n",
    "from langchain.embeddings.openai import OpenAIEmbeddings\n",
    "\n",
    "model_name = 'text-embedding-ada-002'\n",
    "embeddings = OpenAIEmbeddings(\n",
    "    model=model_name,\n",
    ")"
   ],
   "metadata": {
    "collapsed": false,
    "ExecuteTime": {
     "end_time": "2024-04-26T18:51:59.915738800Z",
     "start_time": "2024-04-26T18:51:59.912312200Z"
    }
   },
   "id": "501692be8dc9291c",
   "execution_count": 20
  },
  {
   "cell_type": "code",
   "outputs": [],
   "source": [
    "import pinecone \n",
    "from langchain.vectorstores import Pinecone\n",
    "from pinecone import Pinecone, ServerlessSpec, Index\n",
    "# 初始化 pinecone\n",
    "import os\n",
    "from pinecone import Pinecone, ServerlessSpec, Index\n",
    "\n",
    "#加载API\n",
    "\n",
    "pc = Pinecone()\n",
    "\n",
    "index_name = \"langchain-chatbot-zyb\"\n",
    "\n",
    "#查看索引是否存在， 如若不存在则创造一个新索引\n",
    "if index_name not in pc.list_indexes().names():\n",
    "    pc.create_index(\n",
    "    name=index_name, \n",
    "    dimension=1536, \n",
    "    metric='euclidean',\n",
    "    spec=ServerlessSpec(\n",
    "    cloud='aws',\n",
    "    region='us-west-2')\n",
    "    )\n",
    "    \n",
    "index = pc.Index(index_name)"
   ],
   "metadata": {
    "collapsed": false,
    "ExecuteTime": {
     "end_time": "2024-04-26T18:52:07.357255900Z",
     "start_time": "2024-04-26T18:52:06.719093Z"
    }
   },
   "id": "18d76288f62aa1a1",
   "execution_count": 21
  },
  {
   "cell_type": "code",
   "outputs": [],
   "source": [
    "# 生成每个文档的嵌入向量\n",
    "embedding_list = []\n",
    "for i in range(0, len(docs)):\n",
    "    embedding_list.append(embeddings.embed_query(docs[i]))\n",
    "    \n",
    "def insert_vectors_to_pinecone(docs, embedding_list):\n",
    "    \"\"\"\n",
    "    将文档嵌入向量插入 Pinecone 索引。\n",
    "\n",
    "    参数：\n",
    "        docs (list): 包含文档内容的列表。\n",
    "        embedding_list (list): 包含文档嵌入向量的列表。\n",
    "\n",
    "    返回：\n",
    "        无返回值，直接将向量插入 Pinecone 索引。\n",
    "    \"\"\"\n",
    "     # 遍历每个文档及其对应的嵌入向量\n",
    "    for i, (doc, vec) in enumerate(zip(docs, embedding_list)):\n",
    "        # 使用带有文档文本的元数据插入向量\n",
    "        index.upsert(vectors=[(f\"vec{i+1}\", vec, {\"text\": doc})])\n",
    "\n",
    "insert_vectors_to_pinecone(docs, embedding_list)"
   ],
   "metadata": {
    "collapsed": false,
    "ExecuteTime": {
     "end_time": "2024-04-26T18:52:16.474569300Z",
     "start_time": "2024-04-26T18:52:10.604332800Z"
    }
   },
   "id": "8fb49e9a6d7ab0bd",
   "execution_count": 22
  },
  {
   "cell_type": "code",
   "outputs": [
    {
     "name": "stdout",
     "output_type": "stream",
     "text": [
      "Match ID: vec1\n",
      "Match Score: 0.318327665\n",
      "Matched Text: Sam Altman\n",
      "9 min listen\n",
      "0:00\n",
      "9:20\n",
      "Article\n",
      "Talk\n",
      "Read\n",
      "Edit\n",
      "View history\n",
      "Tools From Wikipedia, the free encyclopedia Sam Altman Sam Altman CropEdit James Tamim.jpg Altman in 2019 BornApril 22, 1985 (age 38) Chicago, Illinois, U.S. EducationStanford University (dropped out) OccupationEntrepreneur Known forLoopt, Y Combinator, OpenAI TitleCEO of OpenAI LP WebsiteOfficial website Edit this at Wikidata Samuel Harris Altman (/ˈɔːltmən/ AWLT-mən; born 1985) is an American entrepreneur, investor, and programmer. He was the co-founder of Loopt and is the current CEO of OpenAI.  He was the president of Y \n",
      "\n",
      "Match ID: vec5\n",
      "Match Score: 0.41213274\n",
      "Matched Text: research on basic income, the future of computing, education, and building new cities. \n",
      "In March 2019, YC announced Altman's transition from president of the company to a less hands-on role Chairman of the Board, in order for him to focus on OpenAI.  This decision came shortly after YC announced it would be moving its headquarters to San Francisco.  As of early 2020, he is no longer affiliated with YC.\n",
      "OpenAI By 2020, Sam Altman had left Y Combinator to focus full-time on OpenAI as CEO.  OpenAI was initially funded by Altman, Greg Brockman, Elon Musk, Jessica Livingston, Peter Thiel, Microsoft\n"
     ]
    }
   ],
   "source": [
    "def get_similar_docs(query_vector, k=1, include_metadata=True):\n",
    "    # 执行查询\n",
    "    \"\"\"\n",
    "    查询与给定向量最相似的文档。\n",
    "\n",
    "    参数：\n",
    "        query_vector (list): 查询向量。\n",
    "        k (int): 要返回的最相似文档的数量，默认为 1。\n",
    "        include_metadata (bool): 是否包含文档的元数据，默认为 True。\n",
    "\n",
    "    返回：\n",
    "        dict: 包含查询结果的字典，其中包括匹配的文档ID、匹配分数和匹配的文本内容。\n",
    "    \"\"\"\n",
    "    response = index.query(\n",
    "        vector=query_vector,  # 需要传入查询向量\n",
    "        top_k=k,\n",
    "        include_metadata=include_metadata\n",
    "    )\n",
    "    return response\n",
    "\n",
    "# 测试\n",
    "query = \"sam altman title\"\n",
    "query_vector = embeddings.embed_query(query)  # 使用嵌入模型生成查询向量\n",
    "similar_docs = get_similar_docs(query_vector, k=2)  # 获取最相似的3个文档\n",
    "\n",
    "# 打印出查询结果中的文本\n",
    "for match in similar_docs['matches']:\n",
    "    print(\"Match ID:\", match['id'])\n",
    "    print(\"Match Score:\", match['score'])\n",
    "    if 'metadata' in match and 'text' in match['metadata']:\n",
    "        print(\"Matched Text:\", match['metadata']['text'])\n",
    "    else:\n",
    "        print(\"No text metadata available for this match.\")\n",
    "    print()  # 打印空行以便于阅读"
   ],
   "metadata": {
    "collapsed": false,
    "ExecuteTime": {
     "end_time": "2024-04-26T18:52:20.353490700Z",
     "start_time": "2024-04-26T18:52:19.940782300Z"
    }
   },
   "id": "c39c7ce1b58c8c17",
   "execution_count": 23
  },
  {
   "cell_type": "code",
   "outputs": [],
   "source": [],
   "metadata": {
    "collapsed": false
   },
   "id": "5e692faea22b86dc"
  }
 ],
 "metadata": {
  "kernelspec": {
   "display_name": "Python 3",
   "language": "python",
   "name": "python3"
  },
  "language_info": {
   "codemirror_mode": {
    "name": "ipython",
    "version": 2
   },
   "file_extension": ".py",
   "mimetype": "text/x-python",
   "name": "python",
   "nbconvert_exporter": "python",
   "pygments_lexer": "ipython2",
   "version": "2.7.6"
  }
 },
 "nbformat": 4,
 "nbformat_minor": 5
}
